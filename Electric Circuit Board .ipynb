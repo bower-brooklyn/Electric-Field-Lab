{
 "cells": [
  {
   "cell_type": "code",
   "execution_count": 121,
   "metadata": {},
   "outputs": [],
   "source": [
    "import numpy as np"
   ]
  },
  {
   "cell_type": "code",
   "execution_count": 122,
   "metadata": {},
   "outputs": [],
   "source": [
    "def rule3(dA,dB):\n",
    "    dQ = np.sqrt(dA**2+dB**2)\n",
    "    return dQ"
   ]
  },
  {
   "cell_type": "code",
   "execution_count": 123,
   "metadata": {},
   "outputs": [],
   "source": [
    "def rule4(dA,dB,q,a,b):\n",
    "    dU = np.sqrt((1*(dA/a))**2+(-1*(dB/b))**2)*abs(q)\n",
    "    return dU"
   ]
  },
  {
   "cell_type": "code",
   "execution_count": 124,
   "metadata": {},
   "outputs": [],
   "source": [
    "def brute(Ur,dUr):\n",
    "    dU = np.log(Ur + dUr)-np.log(Ur)\n",
    "    return dU"
   ]
  },
  {
   "cell_type": "code",
   "execution_count": 125,
   "metadata": {},
   "outputs": [],
   "source": [
    "delV_array = np.array([.17, .36, .04, .03, .17, .25, .13, .27, .20, .60, .60, .80])\n",
    "rmid_array = np.array([6.75, 6.25, 5.75, 5.25, 4.75, 4.25, 3.75, 3.25, 2.75, 2.25, 1.75, 1.25])\n",
    "rmid = rmid_array/100\n",
    "Electricr = delV_array/.005"
   ]
  },
  {
   "cell_type": "code",
   "execution_count": 126,
   "metadata": {},
   "outputs": [],
   "source": [
    "URmid = rule3(.0005, .0005)\n",
    "unRmid = (1/2)*URmid\n",
    "udV = rule3(.05, .05)\n",
    "udr = rule3(.005, .005)\n",
    "unElect = rule4(udV,udr,Electricr,delV_array,.005)"
   ]
  },
  {
   "cell_type": "code",
   "execution_count": 127,
   "metadata": {},
   "outputs": [],
   "source": [
    "lnE = np.log(Electricr)\n",
    "lnRmid = np.log(rmid)"
   ]
  },
  {
   "cell_type": "code",
   "execution_count": 128,
   "metadata": {},
   "outputs": [],
   "source": [
    "unlnE = brute(Electricr,unElect)\n",
    "unlnRmid = brute(rmid,unRmid)"
   ]
  },
  {
   "cell_type": "code",
   "execution_count": 129,
   "metadata": {},
   "outputs": [
    {
     "name": "stdout",
     "output_type": "stream",
     "text": [
      "[3.52636052 4.27666612 2.07944154 1.79175947 3.52636052 3.91202301\n",
      " 3.25809654 3.98898405 3.68887945 4.78749174 4.78749174 5.07517382]\n",
      "[-2.69562768 -2.77258872 -2.85597033 -2.94694211 -3.04702557 -3.1582512\n",
      " -3.28341435 -3.42651519 -3.59356927 -3.79423997 -4.0455544  -4.38202663]\n"
     ]
    }
   ],
   "source": [
    "print(lnE)\n",
    "print(lnRmid)"
   ]
  },
  {
   "cell_type": "code",
   "execution_count": 130,
   "metadata": {},
   "outputs": [
    {
     "name": "stdout",
     "output_type": "stream",
     "text": [
      "[0.90588212 0.8869808  1.18290634 1.32141901 0.90588212 0.89290767\n",
      " 0.92235586 0.891284   0.8992414  0.88340199 0.88340199 0.88251593]\n"
     ]
    }
   ],
   "source": [
    "print(unlnE)"
   ]
  },
  {
   "cell_type": "code",
   "execution_count": 131,
   "metadata": {},
   "outputs": [
    {
     "name": "stdout",
     "output_type": "stream",
     "text": [
      "[0.0675 0.0625 0.0575 0.0525 0.0475 0.0425 0.0375 0.0325 0.0275 0.0225\n",
      " 0.0175 0.0125]\n",
      "[ 34.  72.   8.   6.  34.  50.  26.  54.  40. 120. 120. 160.]\n"
     ]
    }
   ],
   "source": [
    "print(rmid)\n",
    "print(Electricr)"
   ]
  }
 ],
 "metadata": {
  "kernelspec": {
   "display_name": "Python 3",
   "language": "python",
   "name": "python3"
  },
  "language_info": {
   "codemirror_mode": {
    "name": "ipython",
    "version": 3
   },
   "file_extension": ".py",
   "mimetype": "text/x-python",
   "name": "python",
   "nbconvert_exporter": "python",
   "pygments_lexer": "ipython3",
   "version": "3.7.3"
  }
 },
 "nbformat": 4,
 "nbformat_minor": 2
}
